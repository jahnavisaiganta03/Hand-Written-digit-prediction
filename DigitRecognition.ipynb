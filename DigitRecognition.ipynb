{
  "nbformat": 4,
  "nbformat_minor": 0,
  "metadata": {
    "colab": {
      "provenance": [],
      "gpuType": "T4"
    },
    "kernelspec": {
      "name": "python3",
      "display_name": "Python 3"
    },
    "language_info": {
      "name": "python"
    },
    "accelerator": "GPU"
  },
  "cells": [
    {
      "cell_type": "code",
      "execution_count": 26,
      "metadata": {
        "id": "pELLUNVzJWB6"
      },
      "outputs": [],
      "source": [
        "import tensorflow\n",
        "from tensorflow import keras\n",
        "from tensorflow.keras import Sequential\n",
        "from tensorflow.keras.layers import Dense,Flatten,Conv2D,MaxPool2D,BatchNormalization,Dropout"
      ]
    },
    {
      "cell_type": "code",
      "source": [
        "(X_train,y_train),(X_test,y_test) = keras.datasets.mnist.load_data()"
      ],
      "metadata": {
        "id": "KRTH93VyMYF7"
      },
      "execution_count": 27,
      "outputs": []
    },
    {
      "cell_type": "code",
      "source": [
        "X_test.shape"
      ],
      "metadata": {
        "colab": {
          "base_uri": "https://localhost:8080/"
        },
        "id": "m0hHUKoNMpsZ",
        "outputId": "60f50f1c-374c-4885-c582-4079d7f14e4a"
      },
      "execution_count": 28,
      "outputs": [
        {
          "output_type": "execute_result",
          "data": {
            "text/plain": [
              "(10000, 28, 28)"
            ]
          },
          "metadata": {},
          "execution_count": 28
        }
      ]
    },
    {
      "cell_type": "code",
      "source": [
        "y_train"
      ],
      "metadata": {
        "colab": {
          "base_uri": "https://localhost:8080/"
        },
        "id": "skzwnglnMzl6",
        "outputId": "cbd17cb3-eb47-4686-ab97-a9acee5dd530"
      },
      "execution_count": 29,
      "outputs": [
        {
          "output_type": "execute_result",
          "data": {
            "text/plain": [
              "array([5, 0, 4, ..., 5, 6, 8], dtype=uint8)"
            ]
          },
          "metadata": {},
          "execution_count": 29
        }
      ]
    },
    {
      "cell_type": "code",
      "source": [
        "import matplotlib.pyplot as plt\n",
        "plt.imshow(X_train[2])"
      ],
      "metadata": {
        "colab": {
          "base_uri": "https://localhost:8080/",
          "height": 448
        },
        "id": "jr2MuKsKRH5G",
        "outputId": "93185435-d93e-4f6b-d876-589805c0f025"
      },
      "execution_count": 30,
      "outputs": [
        {
          "output_type": "execute_result",
          "data": {
            "text/plain": [
              "<matplotlib.image.AxesImage at 0x7fbb782edba0>"
            ]
          },
          "metadata": {},
          "execution_count": 30
        },
        {
          "output_type": "display_data",
          "data": {
            "text/plain": [
              "<Figure size 640x480 with 1 Axes>"
            ],
            "image/png": "[encoded data removed]"
          },
          "metadata": {}
        }
      ]
    },
    {
      "cell_type": "code",
      "source": [
        "X_train = X_train/255\n",
        "X_test = X_test/255"
      ],
      "metadata": {
        "id": "dJmO2WLlRRT1"
      },
      "execution_count": 31,
      "outputs": []
    },
    {
      "cell_type": "code",
      "source": [
        "X_train[0]"
      ],
      "metadata": {
        "colab": {
          "base_uri": "https://localhost:8080/"
        },
        "id": "i1WA9FioRdtB",
        "outputId": "0901fb49-b765-4d1d-94d0-2b116dc7716c"
      },
      "execution_count": 32,
      "outputs": [
        {
          "output_type": "execute_result",
          "data": {
            "text/plain": [
              "array([[0.        , 0.        , 0.        , 0.        , 0.        ,\n",
              "        0.        , 0.        , 0.        , 0.        , 0.        ,\n",
              "        0.        , 0.        , 0.        , 0.        , 0.        ,\n",
              "        0.        , 0.        , 0.        , 0.        , 0.        ,\n",
              "        0.        , 0.        , 0.        , 0.        , 0.        ,\n",
              "        0.        , 0.        , 0.        ],\n",
              "       [0.        , 0.        , 0.        , 0.        , 0.        ,\n",
              "        0.        , 0.        , 0.        , 0.        , 0.        ,\n",
              "        0.        , 0.        , 0.        , 0.        , 0.        ,\n",
              "        0.        , 0.        , 0.        , 0.        , 0.        ,\n",
              "        0.        , 0.        , 0.        , 0.        , 0.        ,\n",
              "        0.        , 0.        , 0.        ],\n",
              "       [0.        , 0.        , 0.        , 0.        , 0.        ,\n",
              "        0.        , 0.        , 0.        , 0.        , 0.        ,\n",
              "        0.        , 0.        , 0.        , 0.        , 0.        ,\n",
              "        0.        , 0.        , 0.        , 0.        , 0.        ,\n",
              "        0.        , 0.        , 0.        , 0.        , 0.        ,\n",
              "        0.        , 0.        , 0.        ],\n",
              "       [0.        , 0.        , 0.        , 0.        , 0.        ,\n",
              "        0.        , 0.        , 0.        , 0.        , 0.        ,\n",
              "        0.        , 0.        , 0.        , 0.        , 0.        ,\n",
              "        0.        , 0.        , 0.        , 0.        , 0.        ,\n",
              "        0.        , 0.        , 0.        , 0.        , 0.        ,\n",
              "        0.        , 0.        , 0.        ],\n",
              "       [0.        , 0.        , 0.        , 0.        , 0.        ,\n",
              "        0.        , 0.        , 0.        , 0.        , 0.        ,\n",
              "        0.        , 0.        , 0.        , 0.        , 0.        ,\n",
              "        0.        , 0.        , 0.        , 0.        , 0.        ,\n",
              "        0.        , 0.        , 0.        , 0.        , 0.        ,\n",
              "        0.        , 0.        , 0.        ],\n",
              "       [0.        , 0.        , 0.        , 0.        , 0.        ,\n",
              "        0.        , 0.        , 0.        , 0.        , 0.        ,\n",
              "        0.        , 0.        , 0.01176471, 0.07058824, 0.07058824,\n",
              "        0.07058824, 0.49411765, 0.53333333, 0.68627451, 0.10196078,\n",
              "        0.65098039, 1.        , 0.96862745, 0.49803922, 0.        ,\n",
              "        0.        , 0.        , 0.        ],\n",
              "       [0.        , 0.        , 0.        , 0.        , 0.        ,\n",
              "        0.        , 0.        , 0.        , 0.11764706, 0.14117647,\n",
              "        0.36862745, 0.60392157, 0.66666667, 0.99215686, 0.99215686,\n",
              "        0.99215686, 0.99215686, 0.99215686, 0.88235294, 0.6745098 ,\n",
              "        0.99215686, 0.94901961, 0.76470588, 0.25098039, 0.        ,\n",
              "        0.        , 0.        , 0.        ],\n",
              "       [0.        , 0.        , 0.        , 0.        , 0.        ,\n",
              "        0.        , 0.        , 0.19215686, 0.93333333, 0.99215686,\n",
              "        0.99215686, 0.99215686, 0.99215686, 0.99215686, 0.99215686,\n",
              "        0.99215686, 0.99215686, 0.98431373, 0.36470588, 0.32156863,\n",
              "        0.32156863, 0.21960784, 0.15294118, 0.        , 0.        ,\n",
              "        0.        , 0.        , 0.        ],\n",
              "       [0.        , 0.        , 0.        , 0.        , 0.        ,\n",
              "        0.        , 0.        , 0.07058824, 0.85882353, 0.99215686,\n",
              "        0.99215686, 0.99215686, 0.99215686, 0.99215686, 0.77647059,\n",
              "        0.71372549, 0.96862745, 0.94509804, 0.        , 0.        ,\n",
              "        0.        , 0.        , 0.        , 0.        , 0.        ,\n",
              "        0.        , 0.        , 0.        ],\n",
              "       [0.        , 0.        , 0.        , 0.        , 0.        ,\n",
              "        0.        , 0.        , 0.        , 0.31372549, 0.61176471,\n",
              "        0.41960784, 0.99215686, 0.99215686, 0.80392157, 0.04313725,\n",
              "        0.        , 0.16862745, 0.60392157, 0.        , 0.        ,\n",
              "        0.        , 0.        , 0.        , 0.        , 0.        ,\n",
              "        0.        , 0.        , 0.        ],\n",
              "       [0.        , 0.        , 0.        , 0.        , 0.        ,\n",
              "        0.        , 0.        , 0.        , 0.        , 0.05490196,\n",
              "        0.00392157, 0.60392157, 0.99215686, 0.35294118, 0.        ,\n",
              "        0.        , 0.        , 0.        , 0.        , 0.        ,\n",
              "        0.        , 0.        , 0.        , 0.        , 0.        ,\n",
              "        0.        , 0.        , 0.        ],\n",
              "       [0.        , 0.        , 0.        , 0.        , 0.        ,\n",
              "        0.        , 0.        , 0.        , 0.        , 0.        ,\n",
              "        0.        , 0.54509804, 0.99215686, 0.74509804, 0.00784314,\n",
              "        0.        , 0.        , 0.        , 0.        , 0.        ,\n",
              "        0.        , 0.        , 0.        , 0.        , 0.        ,\n",
              "        0.        , 0.        , 0.        ],\n",
              "       [0.        , 0.        , 0.        , 0.        , 0.        ,\n",
              "        0.        , 0.        , 0.        , 0.        , 0.        ,\n",
              "        0.        , 0.04313725, 0.74509804, 0.99215686, 0.2745098 ,\n",
              "        0.        , 0.        , 0.        , 0.        , 0.        ,\n",
              "        0.        , 0.        , 0.        , 0.        , 0.        ,\n",
              "        0.        , 0.        , 0.        ],\n",
              "       [0.        , 0.        , 0.        , 0.        , 0.        ,\n",
              "        0.        , 0.        , 0.        , 0.        , 0.        ,\n",
              "        0.        , 0.        , 0.1372549 , 0.94509804, 0.88235294,\n",
              "        0.62745098, 0.42352941, 0.00392157, 0.        , 0.        ,\n",
              "        0.        , 0.        , 0.        , 0.        , 0.        ,\n",
              "        0.        , 0.        , 0.        ],\n",
              "       [0.        , 0.        , 0.        , 0.        , 0.        ,\n",
              "        0.        , 0.        , 0.        , 0.        , 0.        ,\n",
              "        0.        , 0.        , 0.        , 0.31764706, 0.94117647,\n",
              "        0.99215686, 0.99215686, 0.46666667, 0.09803922, 0.        ,\n",
              "        0.        , 0.        , 0.        , 0.        , 0.        ,\n",
              "        0.        , 0.        , 0.        ],\n",
              "       [0.        , 0.        , 0.        , 0.        , 0.        ,\n",
              "        0.        , 0.        , 0.        , 0.        , 0.        ,\n",
              "        0.        , 0.        , 0.        , 0.        , 0.17647059,\n",
              "        0.72941176, 0.99215686, 0.99215686, 0.58823529, 0.10588235,\n",
              "        0.        , 0.        , 0.        , 0.        , 0.        ,\n",
              "        0.        , 0.        , 0.        ],\n",
              "       [0.        , 0.        , 0.        , 0.        , 0.        ,\n",
              "        0.        , 0.        , 0.        , 0.        , 0.        ,\n",
              "        0.        , 0.        , 0.        , 0.        , 0.        ,\n",
              "        0.0627451 , 0.36470588, 0.98823529, 0.99215686, 0.73333333,\n",
              "        0.        , 0.        , 0.        , 0.        , 0.        ,\n",
              "        0.        , 0.        , 0.        ],\n",
              "       [0.        , 0.        , 0.        , 0.        , 0.        ,\n",
              "        0.        , 0.        , 0.        , 0.        , 0.        ,\n",
              "        0.        , 0.        , 0.        , 0.        , 0.        ,\n",
              "        0.        , 0.        , 0.97647059, 0.99215686, 0.97647059,\n",
              "        0.25098039, 0.        , 0.        , 0.        , 0.        ,\n",
              "        0.        , 0.        , 0.        ],\n",
              "       [0.        , 0.        , 0.        , 0.        , 0.        ,\n",
              "        0.        , 0.        , 0.        , 0.        , 0.        ,\n",
              "        0.        , 0.        , 0.        , 0.        , 0.18039216,\n",
              "        0.50980392, 0.71764706, 0.99215686, 0.99215686, 0.81176471,\n",
              "        0.00784314, 0.        , 0.        , 0.        , 0.        ,\n",
              "        0.        , 0.        , 0.        ],\n",
              "       [0.        , 0.        , 0.        , 0.        , 0.        ,\n",
              "        0.        , 0.        , 0.        , 0.        , 0.        ,\n",
              "        0.        , 0.        , 0.15294118, 0.58039216, 0.89803922,\n",
              "        0.99215686, 0.99215686, 0.99215686, 0.98039216, 0.71372549,\n",
              "        0.        , 0.        , 0.        , 0.        , 0.        ,\n",
              "        0.        , 0.        , 0.        ],\n",
              "       [0.        , 0.        , 0.        , 0.        , 0.        ,\n",
              "        0.        , 0.        , 0.        , 0.        , 0.        ,\n",
              "        0.09411765, 0.44705882, 0.86666667, 0.99215686, 0.99215686,\n",
              "        0.99215686, 0.99215686, 0.78823529, 0.30588235, 0.        ,\n",
              "        0.        , 0.        , 0.        , 0.        , 0.        ,\n",
              "        0.        , 0.        , 0.        ],\n",
              "       [0.        , 0.        , 0.        , 0.        , 0.        ,\n",
              "        0.        , 0.        , 0.        , 0.09019608, 0.25882353,\n",
              "        0.83529412, 0.99215686, 0.99215686, 0.99215686, 0.99215686,\n",
              "        0.77647059, 0.31764706, 0.00784314, 0.        , 0.        ,\n",
              "        0.        , 0.        , 0.        , 0.        , 0.        ,\n",
              "        0.        , 0.        , 0.        ],\n",
              "       [0.        , 0.        , 0.        , 0.        , 0.        ,\n",
              "        0.        , 0.07058824, 0.67058824, 0.85882353, 0.99215686,\n",
              "        0.99215686, 0.99215686, 0.99215686, 0.76470588, 0.31372549,\n",
              "        0.03529412, 0.        , 0.        , 0.        , 0.        ,\n",
              "        0.        , 0.        , 0.        , 0.        , 0.        ,\n",
              "        0.        , 0.        , 0.        ],\n",
              "       [0.        , 0.        , 0.        , 0.        , 0.21568627,\n",
              "        0.6745098 , 0.88627451, 0.99215686, 0.99215686, 0.99215686,\n",
              "        0.99215686, 0.95686275, 0.52156863, 0.04313725, 0.        ,\n",
              "        0.        , 0.        , 0.        , 0.        , 0.        ,\n",
              "        0.        , 0.        , 0.        , 0.        , 0.        ,\n",
              "        0.        , 0.        , 0.        ],\n",
              "       [0.        , 0.        , 0.        , 0.        , 0.53333333,\n",
              "        0.99215686, 0.99215686, 0.99215686, 0.83137255, 0.52941176,\n",
              "        0.51764706, 0.0627451 , 0.        , 0.        , 0.        ,\n",
              "        0.        , 0.        , 0.        , 0.        , 0.        ,\n",
              "        0.        , 0.        , 0.        , 0.        , 0.        ,\n",
              "        0.        , 0.        , 0.        ],\n",
              "       [0.        , 0.        , 0.        , 0.        , 0.        ,\n",
              "        0.        , 0.        , 0.        , 0.        , 0.        ,\n",
              "        0.        , 0.        , 0.        , 0.        , 0.        ,\n",
              "        0.        , 0.        , 0.        , 0.        , 0.        ,\n",
              "        0.        , 0.        , 0.        , 0.        , 0.        ,\n",
              "        0.        , 0.        , 0.        ],\n",
              "       [0.        , 0.        , 0.        , 0.        , 0.        ,\n",
              "        0.        , 0.        , 0.        , 0.        , 0.        ,\n",
              "        0.        , 0.        , 0.        , 0.        , 0.        ,\n",
              "        0.        , 0.        , 0.        , 0.        , 0.        ,\n",
              "        0.        , 0.        , 0.        , 0.        , 0.        ,\n",
              "        0.        , 0.        , 0.        ],\n",
              "       [0.        , 0.        , 0.        , 0.        , 0.        ,\n",
              "        0.        , 0.        , 0.        , 0.        , 0.        ,\n",
              "        0.        , 0.        , 0.        , 0.        , 0.        ,\n",
              "        0.        , 0.        , 0.        , 0.        , 0.        ,\n",
              "        0.        , 0.        , 0.        , 0.        , 0.        ,\n",
              "        0.        , 0.        , 0.        ]])"
            ]
          },
          "metadata": {},
          "execution_count": 32
        }
      ]
    },
    {
      "cell_type": "code",
      "source": [
        "X_train[0].shape\n"
      ],
      "metadata": {
        "colab": {
          "base_uri": "https://localhost:8080/"
        },
        "id": "r_N-qsHVWTy4",
        "outputId": "1e2d29cf-d92d-49cc-ada3-472d3315e62c"
      },
      "execution_count": 33,
      "outputs": [
        {
          "output_type": "execute_result",
          "data": {
            "text/plain": [
              "(28, 28)"
            ]
          },
          "metadata": {},
          "execution_count": 33
        }
      ]
    },
    {
      "cell_type": "code",
      "source": [
        "model = Sequential()\n",
        "model.add(Conv2D(32,kernel_size=(3,3),padding='valid',activation='relu',input_shape=[28,28,1]))\n",
        "model.add(MaxPool2D(pool_size=2,strides=2,padding='valid'))\n",
        "model.add(Conv2D(32,kernel_size=(3,3),padding='valid',activation='relu'))\n",
        "model.add(MaxPool2D(pool_size=2,strides=2,padding='valid'))\n",
        "model.add(Conv2D(32,kernel_size=(3,3),padding='valid',activation='relu'))\n"
      ],
      "metadata": {
        "id": "jr78UU88Rzm6"
      },
      "execution_count": 34,
      "outputs": []
    },
    {
      "cell_type": "code",
      "source": [
        "model.add(Flatten())\n",
        "model.add(Dense(128,activation='relu',kernel_initializer='he_uniform',kernel_regularizer=tensorflow.keras.regularizers.L2(0.05)))\n",
        "model.add(Dropout(0.7))\n",
        "model.add(BatchNormalization())\n",
        "model.add(Dense(32,activation='relu',kernel_initializer='he_uniform',kernel_regularizer=tensorflow.keras.regularizers.L2(0.05)))\n",
        "model.add(Dropout(0.7))\n",
        "model.add(BatchNormalization())\n",
        "model.add(Dense(10,activation='softmax'))"
      ],
      "metadata": {
        "id": "UOmDKALfV4bO"
      },
      "execution_count": 35,
      "outputs": []
    },
    {
      "cell_type": "code",
      "source": [
        "model.summary()"
      ],
      "metadata": {
        "colab": {
          "base_uri": "https://localhost:8080/"
        },
        "id": "ECogPfG5SmNI",
        "outputId": "9fe954fb-a252-4745-cb6f-8ab8d2439d11"
      },
      "execution_count": 36,
      "outputs": [
        {
          "output_type": "stream",
          "name": "stdout",
          "text": [
            "Model: \"sequential_1\"\n",
            "_________________________________________________________________\n",
            " Layer (type)                Output Shape              Param #   \n",
            "=================================================================\n",
            " conv2d_3 (Conv2D)           (None, 26, 26, 32)        320       \n",
            "                                                                 \n",
            " max_pooling2d_2 (MaxPooling  (None, 13, 13, 32)       0         \n",
            " 2D)                                                             \n",
            "                                                                 \n",
            " conv2d_4 (Conv2D)           (None, 11, 11, 32)        9248      \n",
            "                                                                 \n",
            " max_pooling2d_3 (MaxPooling  (None, 5, 5, 32)         0         \n",
            " 2D)                                                             \n",
            "                                                                 \n",
            " conv2d_5 (Conv2D)           (None, 3, 3, 32)          9248      \n",
            "                                                                 \n",
            " flatten_3 (Flatten)         (None, 288)               0         \n",
            "                                                                 \n",
            " dense_9 (Dense)             (None, 128)               36992     \n",
            "                                                                 \n",
            " dropout_6 (Dropout)         (None, 128)               0         \n",
            "                                                                 \n",
            " batch_normalization_6 (Batc  (None, 128)              512       \n",
            " hNormalization)                                                 \n",
            "                                                                 \n",
            " dense_10 (Dense)            (None, 32)                4128      \n",
            "                                                                 \n",
            " dropout_7 (Dropout)         (None, 32)                0         \n",
            "                                                                 \n",
            " batch_normalization_7 (Batc  (None, 32)               128       \n",
            " hNormalization)                                                 \n",
            "                                                                 \n",
            " dense_11 (Dense)            (None, 10)                330       \n",
            "                                                                 \n",
            "=================================================================\n",
            "Total params: 60,906\n",
            "Trainable params: 60,586\n",
            "Non-trainable params: 320\n",
            "_________________________________________________________________\n"
          ]
        }
      ]
    },
    {
      "cell_type": "code",
      "source": [
        "from keras.callbacks import EarlyStopping\n",
        "callback=EarlyStopping(\n",
        "    monitor=\"val_loss\",\n",
        "    min_delta=0.0001,\n",
        "    patience=10,\n",
        "    verbose=1,\n",
        "    mode=\"auto\",\n",
        "    baseline=None,\n",
        "    restore_best_weights=False,\n",
        "\n",
        ")"
      ],
      "metadata": {
        "id": "W3zRkVmEYvav"
      },
      "execution_count": 37,
      "outputs": []
    },
    {
      "cell_type": "code",
      "source": [
        "model.compile(loss='sparse_categorical_crossentropy',optimizer='Adam',metrics=['accuracy'])"
      ],
      "metadata": {
        "id": "0yC51WgjSsLV"
      },
      "execution_count": 38,
      "outputs": []
    },
    {
      "cell_type": "code",
      "source": [
        "history = model.fit(X_train,y_train,epochs=100,validation_split=0.2,callbacks=callback)"
      ],
      "metadata": {
        "colab": {
          "base_uri": "https://localhost:8080/"
        },
        "id": "L-fkwmIvWT8M",
        "outputId": "23fc0d85-ab56-40b5-9a1e-c1ebcb08f567"
      },
      "execution_count": 39,
      "outputs": [
        {
          "output_type": "stream",
          "name": "stdout",
          "text": [
            "Epoch 1/100\n",
            "1500/1500 [==============================] - 22s 12ms/step - loss: 2.6805 - accuracy: 0.5385 - val_loss: 0.5475 - val_accuracy: 0.9503\n",
            "Epoch 2/100\n",
            "1500/1500 [==============================] - 9s 6ms/step - loss: 1.0734 - accuracy: 0.7402 - val_loss: 0.4051 - val_accuracy: 0.9643\n",
            "Epoch 3/100\n",
            "1500/1500 [==============================] - 9s 6ms/step - loss: 0.9936 - accuracy: 0.7631 - val_loss: 0.3289 - val_accuracy: 0.9777\n",
            "Epoch 4/100\n",
            "1500/1500 [==============================] - 9s 6ms/step - loss: 0.9511 - accuracy: 0.7694 - val_loss: 0.3103 - val_accuracy: 0.9798\n",
            "Epoch 5/100\n",
            "1500/1500 [==============================] - 9s 6ms/step - loss: 0.9195 - accuracy: 0.7804 - val_loss: 0.3296 - val_accuracy: 0.9782\n",
            "Epoch 6/100\n",
            "1500/1500 [==============================] - 9s 6ms/step - loss: 0.9296 - accuracy: 0.7768 - val_loss: 0.3089 - val_accuracy: 0.9812\n",
            "Epoch 7/100\n",
            "1500/1500 [==============================] - 9s 6ms/step - loss: 0.9028 - accuracy: 0.7805 - val_loss: 0.2919 - val_accuracy: 0.9804\n",
            "Epoch 8/100\n",
            "1500/1500 [==============================] - 9s 6ms/step - loss: 0.8815 - accuracy: 0.7824 - val_loss: 0.3075 - val_accuracy: 0.9833\n",
            "Epoch 9/100\n",
            "1500/1500 [==============================] - 9s 6ms/step - loss: 0.9008 - accuracy: 0.7783 - val_loss: 0.3016 - val_accuracy: 0.9778\n",
            "Epoch 10/100\n",
            "1500/1500 [==============================] - 9s 6ms/step - loss: 0.8723 - accuracy: 0.7809 - val_loss: 0.2675 - val_accuracy: 0.9787\n",
            "Epoch 11/100\n",
            "1500/1500 [==============================] - 9s 6ms/step - loss: 0.8818 - accuracy: 0.7803 - val_loss: 0.2675 - val_accuracy: 0.9812\n",
            "Epoch 12/100\n",
            "1500/1500 [==============================] - 9s 6ms/step - loss: 0.8844 - accuracy: 0.7776 - val_loss: 0.2793 - val_accuracy: 0.9784\n",
            "Epoch 13/100\n",
            "1500/1500 [==============================] - 9s 6ms/step - loss: 0.8602 - accuracy: 0.7832 - val_loss: 0.2626 - val_accuracy: 0.9826\n",
            "Epoch 14/100\n",
            "1500/1500 [==============================] - 8s 5ms/step - loss: 0.8655 - accuracy: 0.7802 - val_loss: 0.3263 - val_accuracy: 0.9732\n",
            "Epoch 15/100\n",
            "1500/1500 [==============================] - 9s 6ms/step - loss: 0.8675 - accuracy: 0.7789 - val_loss: 0.2822 - val_accuracy: 0.9794\n",
            "Epoch 16/100\n",
            "1500/1500 [==============================] - 9s 6ms/step - loss: 0.8575 - accuracy: 0.7842 - val_loss: 0.2921 - val_accuracy: 0.9812\n",
            "Epoch 17/100\n",
            "1500/1500 [==============================] - 8s 5ms/step - loss: 0.8499 - accuracy: 0.7825 - val_loss: 0.2820 - val_accuracy: 0.9762\n",
            "Epoch 18/100\n",
            "1500/1500 [==============================] - 9s 6ms/step - loss: 0.8642 - accuracy: 0.7807 - val_loss: 0.2624 - val_accuracy: 0.9862\n",
            "Epoch 19/100\n",
            "1500/1500 [==============================] - 10s 7ms/step - loss: 0.8480 - accuracy: 0.7825 - val_loss: 0.2636 - val_accuracy: 0.9833\n",
            "Epoch 20/100\n",
            "1500/1500 [==============================] - 9s 6ms/step - loss: 0.8493 - accuracy: 0.7840 - val_loss: 0.2658 - val_accuracy: 0.9836\n",
            "Epoch 21/100\n",
            "1500/1500 [==============================] - 8s 5ms/step - loss: 0.8418 - accuracy: 0.7834 - val_loss: 0.2750 - val_accuracy: 0.9810\n",
            "Epoch 22/100\n",
            "1500/1500 [==============================] - 9s 6ms/step - loss: 0.8273 - accuracy: 0.7887 - val_loss: 0.2666 - val_accuracy: 0.9814\n",
            "Epoch 23/100\n",
            "1500/1500 [==============================] - 9s 6ms/step - loss: 0.8266 - accuracy: 0.7894 - val_loss: 0.2700 - val_accuracy: 0.9822\n",
            "Epoch 24/100\n",
            "1500/1500 [==============================] - 9s 6ms/step - loss: 0.8307 - accuracy: 0.7888 - val_loss: 0.2779 - val_accuracy: 0.9815\n",
            "Epoch 25/100\n",
            "1500/1500 [==============================] - 9s 6ms/step - loss: 0.8371 - accuracy: 0.7871 - val_loss: 0.2729 - val_accuracy: 0.9748\n",
            "Epoch 26/100\n",
            "1500/1500 [==============================] - 9s 6ms/step - loss: 0.8267 - accuracy: 0.7869 - val_loss: 0.2659 - val_accuracy: 0.9813\n",
            "Epoch 27/100\n",
            "1500/1500 [==============================] - 9s 6ms/step - loss: 0.8438 - accuracy: 0.7825 - val_loss: 0.2815 - val_accuracy: 0.9763\n",
            "Epoch 28/100\n",
            "1500/1500 [==============================] - 8s 5ms/step - loss: 0.8318 - accuracy: 0.7865 - val_loss: 0.2590 - val_accuracy: 0.9784\n",
            "Epoch 29/100\n",
            "1500/1500 [==============================] - 9s 6ms/step - loss: 0.8486 - accuracy: 0.7790 - val_loss: 0.2960 - val_accuracy: 0.9718\n",
            "Epoch 30/100\n",
            "1500/1500 [==============================] - 9s 6ms/step - loss: 0.8412 - accuracy: 0.7820 - val_loss: 0.2636 - val_accuracy: 0.9833\n",
            "Epoch 31/100\n",
            "1500/1500 [==============================] - 9s 6ms/step - loss: 0.8314 - accuracy: 0.7829 - val_loss: 0.2532 - val_accuracy: 0.9821\n",
            "Epoch 32/100\n",
            "1500/1500 [==============================] - 9s 6ms/step - loss: 0.8214 - accuracy: 0.7841 - val_loss: 0.2636 - val_accuracy: 0.9813\n",
            "Epoch 33/100\n",
            "1500/1500 [==============================] - 9s 6ms/step - loss: 0.8288 - accuracy: 0.7892 - val_loss: 0.2788 - val_accuracy: 0.9819\n",
            "Epoch 34/100\n",
            "1500/1500 [==============================] - 9s 6ms/step - loss: 0.8173 - accuracy: 0.7901 - val_loss: 0.2752 - val_accuracy: 0.9786\n",
            "Epoch 35/100\n",
            "1500/1500 [==============================] - 9s 6ms/step - loss: 0.8244 - accuracy: 0.7877 - val_loss: 0.2671 - val_accuracy: 0.9830\n",
            "Epoch 36/100\n",
            "1500/1500 [==============================] - 9s 6ms/step - loss: 0.8063 - accuracy: 0.7895 - val_loss: 0.2493 - val_accuracy: 0.9852\n",
            "Epoch 37/100\n",
            "1500/1500 [==============================] - 9s 6ms/step - loss: 0.8041 - accuracy: 0.7940 - val_loss: 0.2781 - val_accuracy: 0.9802\n",
            "Epoch 38/100\n",
            "1500/1500 [==============================] - 9s 6ms/step - loss: 0.8130 - accuracy: 0.7877 - val_loss: 0.2964 - val_accuracy: 0.9728\n",
            "Epoch 39/100\n",
            "1500/1500 [==============================] - 8s 6ms/step - loss: 0.8101 - accuracy: 0.7920 - val_loss: 0.2702 - val_accuracy: 0.9811\n",
            "Epoch 40/100\n",
            "1500/1500 [==============================] - 9s 6ms/step - loss: 0.7970 - accuracy: 0.7940 - val_loss: 0.2543 - val_accuracy: 0.9800\n",
            "Epoch 41/100\n",
            "1500/1500 [==============================] - 9s 6ms/step - loss: 0.8016 - accuracy: 0.7939 - val_loss: 0.2562 - val_accuracy: 0.9821\n",
            "Epoch 42/100\n",
            "1500/1500 [==============================] - 8s 5ms/step - loss: 0.7999 - accuracy: 0.7947 - val_loss: 0.2748 - val_accuracy: 0.9782\n",
            "Epoch 43/100\n",
            "1500/1500 [==============================] - 9s 6ms/step - loss: 0.7943 - accuracy: 0.7954 - val_loss: 0.2608 - val_accuracy: 0.9824\n",
            "Epoch 44/100\n",
            "1500/1500 [==============================] - 9s 6ms/step - loss: 0.8148 - accuracy: 0.7928 - val_loss: 0.2758 - val_accuracy: 0.9803\n",
            "Epoch 45/100\n",
            "1500/1500 [==============================] - 8s 5ms/step - loss: 0.7918 - accuracy: 0.7980 - val_loss: 0.2480 - val_accuracy: 0.9840\n",
            "Epoch 46/100\n",
            "1500/1500 [==============================] - 9s 6ms/step - loss: 0.7878 - accuracy: 0.7993 - val_loss: 0.2567 - val_accuracy: 0.9815\n",
            "Epoch 47/100\n",
            "1500/1500 [==============================] - 9s 6ms/step - loss: 0.7863 - accuracy: 0.7963 - val_loss: 0.2590 - val_accuracy: 0.9821\n",
            "Epoch 48/100\n",
            "1500/1500 [==============================] - 9s 6ms/step - loss: 0.7933 - accuracy: 0.7980 - val_loss: 0.2549 - val_accuracy: 0.9844\n",
            "Epoch 49/100\n",
            "1500/1500 [==============================] - 8s 6ms/step - loss: 0.7849 - accuracy: 0.7992 - val_loss: 0.2599 - val_accuracy: 0.9816\n",
            "Epoch 50/100\n",
            "1500/1500 [==============================] - 9s 6ms/step - loss: 0.7826 - accuracy: 0.7966 - val_loss: 0.2551 - val_accuracy: 0.9822\n",
            "Epoch 51/100\n",
            "1500/1500 [==============================] - 9s 6ms/step - loss: 0.7917 - accuracy: 0.7942 - val_loss: 0.2487 - val_accuracy: 0.9841\n",
            "Epoch 52/100\n",
            "1500/1500 [==============================] - 8s 5ms/step - loss: 0.7860 - accuracy: 0.7954 - val_loss: 0.2577 - val_accuracy: 0.9787\n",
            "Epoch 53/100\n",
            "1500/1500 [==============================] - 9s 6ms/step - loss: 0.7796 - accuracy: 0.7968 - val_loss: 0.2534 - val_accuracy: 0.9812\n",
            "Epoch 54/100\n",
            "1500/1500 [==============================] - 9s 6ms/step - loss: 0.7721 - accuracy: 0.8005 - val_loss: 0.2726 - val_accuracy: 0.9764\n",
            "Epoch 55/100\n",
            "1500/1500 [==============================] - 8s 5ms/step - loss: 0.7858 - accuracy: 0.7964 - val_loss: 0.2534 - val_accuracy: 0.9808\n",
            "Epoch 55: early stopping\n"
          ]
        }
      ]
    },
    {
      "cell_type": "code",
      "source": [
        "y_prob = model.predict(X_test)"
      ],
      "metadata": {
        "id": "CazuknkLW_LY",
        "colab": {
          "base_uri": "https://localhost:8080/"
        },
        "outputId": "0dda68b2-16ce-48bf-e4ed-3842005e2f81"
      },
      "execution_count": 40,
      "outputs": [
        {
          "output_type": "stream",
          "name": "stdout",
          "text": [
            "313/313 [==============================] - 1s 3ms/step\n"
          ]
        }
      ]
    },
    {
      "cell_type": "code",
      "source": [
        "y_pred = y_prob.argmax(axis=1)"
      ],
      "metadata": {
        "id": "5nELQpFrXQIi"
      },
      "execution_count": 41,
      "outputs": []
    },
    {
      "cell_type": "code",
      "source": [
        "from sklearn.metrics import accuracy_score\n",
        "accuracy_score(y_test,y_pred)"
      ],
      "metadata": {
        "colab": {
          "base_uri": "https://localhost:8080/"
        },
        "id": "jcyA9XVHXY6o",
        "outputId": "cb5877e5-8034-4f35-9711-99e39256803b"
      },
      "execution_count": 42,
      "outputs": [
        {
          "output_type": "execute_result",
          "data": {
            "text/plain": [
              "0.983"
            ]
          },
          "metadata": {},
          "execution_count": 42
        }
      ]
    },
    {
      "cell_type": "code",
      "source": [
        "plt.plot(history.history['loss'])\n",
        "plt.plot(history.history['val_loss'])"
      ],
      "metadata": {
        "colab": {
          "base_uri": "https://localhost:8080/",
          "height": 448
        },
        "id": "NT2HxBnDXv_V",
        "outputId": "ff6d6660-85b0-4ee2-ba10-dd8cb2d98edb"
      },
      "execution_count": 43,
      "outputs": [
        {
          "output_type": "execute_result",
          "data": {
            "text/plain": [
              "[<matplotlib.lines.Line2D at 0x7fbb48de6c80>]"
            ]
          },
          "metadata": {},
          "execution_count": 43
        },
        {
          "output_type": "display_data",
          "data": {
            "text/plain": [
              "<Figure size 640x480 with 1 Axes>"
            ],
            "image/png": "[encoded data removed]"
          },
          "metadata": {}
        }
      ]
    },
    {
      "cell_type": "code",
      "source": [
        "plt.plot(history.history['accuracy'])\n",
        "plt.plot(history.history['val_accuracy'])"
      ],
      "metadata": {
        "colab": {
          "base_uri": "https://localhost:8080/",
          "height": 448
        },
        "id": "Ln1DIjDOY8E7",
        "outputId": "5dd60895-a41d-4821-9f63-6d584bd6bc7e"
      },
      "execution_count": 44,
      "outputs": [
        {
          "output_type": "execute_result",
          "data": {
            "text/plain": [
              "[<matplotlib.lines.Line2D at 0x7fbb4891b040>]"
            ]
          },
          "metadata": {},
          "execution_count": 44
        },
        {
          "output_type": "display_data",
          "data": {
            "text/plain": [
              "<Figure size 640x480 with 1 Axes>"
            ],
            "image/png": "[encoded data removed]"
          },
          "metadata": {}
        }
      ]
    },
    {
      "cell_type": "code",
      "source": [
        "plt.imshow(X_test[10])"
      ],
      "metadata": {
        "colab": {
          "base_uri": "https://localhost:8080/",
          "height": 448
        },
        "id": "F0eTtwmSZGQn",
        "outputId": "d2aecc43-c652-41f6-f004-12d2128d933e"
      },
      "execution_count": 45,
      "outputs": [
        {
          "output_type": "execute_result",
          "data": {
            "text/plain": [
              "<matplotlib.image.AxesImage at 0x7fbb4896a5c0>"
            ]
          },
          "metadata": {},
          "execution_count": 45
        },
        {
          "output_type": "display_data",
          "data": {
            "text/plain": [
              "<Figure size 640x480 with 1 Axes>"
            ],
            "image/png": "[encoded data removed]"
          },
          "metadata": {}
        }
      ]
    },
    {
      "cell_type": "code",
      "source": [
        "model.predict(X_test[10].reshape(1,28,28)).argmax(axis=1)"
      ],
      "metadata": {
        "colab": {
          "base_uri": "https://localhost:8080/"
        },
        "id": "mBKWjIxealMY",
        "outputId": "bcdf7519-4734-4d56-e541-92fed88d47af"
      },
      "execution_count": 46,
      "outputs": [
        {
          "output_type": "stream",
          "name": "stdout",
          "text": [
            "1/1 [==============================] - 0s 112ms/step\n"
          ]
        },
        {
          "output_type": "execute_result",
          "data": {
            "text/plain": [
              "array([0])"
            ]
          },
          "metadata": {},
          "execution_count": 46
        }
      ]
    },
    {
      "cell_type": "code",
      "source": [],
      "metadata": {
        "id": "onfLjtuZatoe"
      },
      "execution_count": 46,
      "outputs": []
    }
  ]
}